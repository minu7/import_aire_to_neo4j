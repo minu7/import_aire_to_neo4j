{
 "metadata": {
  "language_info": {
   "codemirror_mode": {
    "name": "ipython",
    "version": 3
   },
   "file_extension": ".py",
   "mimetype": "text/x-python",
   "name": "python",
   "nbconvert_exporter": "python",
   "pygments_lexer": "ipython3",
   "version": "3.8.7-final"
  },
  "orig_nbformat": 2,
  "kernelspec": {
   "name": "python3",
   "display_name": "Python 3.8.7 64-bit ('3.8.7')",
   "metadata": {
    "interpreter": {
     "hash": "1d6699aa86f2602ea533c86e4d7a2e97a146b603848a19e03a1edb8b897b9b3d"
    }
   }
  }
 },
 "nbformat": 4,
 "nbformat_minor": 2,
 "cells": [
  {
   "cell_type": "code",
   "execution_count": 55,
   "metadata": {},
   "outputs": [],
   "source": [
    "import pandas as pd\n",
    "import gzip\n",
    "import os\n",
    "import json\n",
    "pd.set_option('display.max_columns', None)"
   ]
  },
  {
   "cell_type": "code",
   "execution_count": 41,
   "metadata": {},
   "outputs": [],
   "source": [
    "def plain_dict(d):\n",
    "    tmp_d = {}\n",
    "    for key in d.keys():\n",
    "        \n",
    "        if type(d[key]) is dict:\n",
    "            tmp_sub_dict = plain_dict(d[key])\n",
    "            for key_tmp in tmp_sub_dict.keys():\n",
    "                tmp_d[key + \"__\" + key_tmp] = tmp_sub_dict[key_tmp]\n",
    "        \n",
    "        elif type(d[key]) is list or type(d[key]) is set or type(d[key]) is frozenset:\n",
    "            tmp_d[key] = len(d[key])\n",
    "        else:\n",
    "            tmp_d[key] = d[key]\n",
    "    return tmp_d"
   ]
  },
  {
   "cell_type": "code",
   "execution_count": 31,
   "metadata": {},
   "outputs": [
    {
     "output_type": "stream",
     "name": "stdout",
     "text": [
      "{'s': 's', 'a': {'s': 'aa', 'k': {'kk': 'llll'}}}\nelse: s\na\n{'s': 'aa', 'k': {'kk': 'llll'}}\nelse: s\nk\n{'kk': 'llll'}\nelse: kk\n"
     ]
    },
    {
     "output_type": "execute_result",
     "data": {
      "text/plain": [
       "{'s': 's', 'a__s': 'aa', 'a__k__kk': 'llll'}"
      ]
     },
     "metadata": {},
     "execution_count": 31
    }
   ],
   "source": [
    "plain_dict({\"s\": \"s\", \"a\" : {\"s\": \"aa\", \"k\": {\"kk\": \"llll\"}}})"
   ]
  },
  {
   "cell_type": "code",
   "execution_count": 47,
   "metadata": {
    "tags": []
   },
   "outputs": [],
   "source": [
    "FOLDER = './ni'\n",
    "resources = []\n",
    "for file in os.listdir(FOLDER):\n",
    "        \n",
    "        if not os.path.isfile(os.path.join(FOLDER, file)) or not file.endswith('.gz'):\n",
    "            continue\n",
    "        \n",
    "        with gzip.open(os.path.join(FOLDER, file), 'rb') as f:\n",
    "            # each file line contain a resource\n",
    "            # variables ending with _n refer with element obtained by Neo4j insert\n",
    "            resources.extend([plain_dict(json.loads(line)) for line in f.readlines()])"
   ]
  },
  {
   "cell_type": "code",
   "execution_count": 48,
   "metadata": {
    "tags": []
   },
   "outputs": [
    {
     "output_type": "stream",
     "name": "stdout",
     "text": [
      "{'author': 3, 'bestaccessright__code': 'c_abf2', 'bestaccessright__label': 'OPEN', 'bestaccessright__scheme': 'http://vocabularies.coar-repositories.org/documentation/access_rights/', 'collectedfrom': 1, 'context': 1, 'contributor': 0, 'country': 0, 'coverage': 0, 'dateofcollection': '2020-11-18T17:06:01.948Z', 'description': 0, 'format': 0, 'geolocation': 0, 'id': '50|NeuroVault__::1b5230e3ea6d7123847ad55a1e06fffd', 'instance': 1, 'language__code': 'UNKNOWN', 'language__label': 'UNKNOWN', 'lastupdatetimestamp': 1608740451078, 'maintitle': 'Peri-hand space representation in the absence of a hand – Evidence from congenital one-handers', 'originalId': 1, 'pid': 0, 'publicationdate': '2017-09-04', 'subjects': 1, 'type': 'dataset'}\n"
     ]
    }
   ],
   "source": [
    "print(resources[0])"
   ]
  },
  {
   "cell_type": "code",
   "execution_count": 49,
   "metadata": {},
   "outputs": [],
   "source": [
    "df = pd.DataFrame(resources)"
   ]
  },
  {
   "cell_type": "code",
   "execution_count": 59,
   "metadata": {},
   "outputs": [
    {
     "output_type": "execute_result",
     "data": {
      "text/plain": [
       "        author bestaccessright__code bestaccessright__label  \\\n",
       "0          3.0                c_abf2                   OPEN   \n",
       "1          4.0                c_abf2                   OPEN   \n",
       "2          5.0                   NaN                    NaN   \n",
       "3          1.0                   NaN                    NaN   \n",
       "4          5.0                   NaN                    NaN   \n",
       "...        ...                   ...                    ...   \n",
       "209264     2.0                c_abf2                   OPEN   \n",
       "209265    22.0                c_abf2                   OPEN   \n",
       "209266     1.0                c_abf2                   OPEN   \n",
       "209267     3.0                c_abf2                   OPEN   \n",
       "209268     0.0                c_abf2                   OPEN   \n",
       "\n",
       "                                  bestaccessright__scheme  collectedfrom  \\\n",
       "0       http://vocabularies.coar-repositories.org/docu...              1   \n",
       "1       http://vocabularies.coar-repositories.org/docu...              1   \n",
       "2                                                     NaN              1   \n",
       "3                                                     NaN              1   \n",
       "4                                                     NaN              1   \n",
       "...                                                   ...            ...   \n",
       "209264  http://vocabularies.coar-repositories.org/docu...              2   \n",
       "209265  http://vocabularies.coar-repositories.org/docu...              3   \n",
       "209266  http://vocabularies.coar-repositories.org/docu...              2   \n",
       "209267  http://vocabularies.coar-repositories.org/docu...              2   \n",
       "209268  http://vocabularies.coar-repositories.org/docu...              1   \n",
       "\n",
       "        context  contributor  country  coverage          dateofcollection  \\\n",
       "0             1            0      0.0         0  2020-11-18T17:06:01.948Z   \n",
       "1             1            0      0.0         0  2020-11-18T17:07:17.748Z   \n",
       "2             1            0      0.0         0  2018-10-28T00:39:04.337Z   \n",
       "3             1            0      0.0         0  2018-10-28T00:39:04.337Z   \n",
       "4             1            0      0.0         0  2018-10-28T00:39:04.337Z   \n",
       "...         ...          ...      ...       ...                       ...   \n",
       "209264        1           16      0.0         0  2018-10-28T00:39:04.337Z   \n",
       "209265        2            0      0.0         0  2020-11-08T23:27:58.067Z   \n",
       "209266        1            0      0.0         0  2020-01-31T23:06:18.565Z   \n",
       "209267        1            0      0.0         0   2020-01-31T23:05:47.93Z   \n",
       "209268        1            0      0.0         0                             \n",
       "\n",
       "        description  format  geolocation  \\\n",
       "0                 0       0          0.0   \n",
       "1                 1       0          0.0   \n",
       "2                 0       0          0.0   \n",
       "3                 1       0          0.0   \n",
       "4                 0       0          0.0   \n",
       "...             ...     ...          ...   \n",
       "209264            1       0          NaN   \n",
       "209265            1       0          NaN   \n",
       "209266            1       0          NaN   \n",
       "209267            1       0          NaN   \n",
       "209268            1       0          NaN   \n",
       "\n",
       "                                                       id  instance  \\\n",
       "0       50|NeuroVault__::1b5230e3ea6d7123847ad55a1e06fffd       1.0   \n",
       "1       50|NeuroVault__::aab3238922bcc25a6f606eb525ffdc56       1.0   \n",
       "2       50|datacite____::3a3d161270ebecb0e88286a79b2604fa       1.0   \n",
       "3       50|datacite____::a830848fc3225c99d594becaa5dcbeb5       1.0   \n",
       "4       50|datacite____::f62842400cd4a6d409f5f76318d3fa7c       1.0   \n",
       "...                                                   ...       ...   \n",
       "209264  50|dedup_wf_001::1144aebf1a47a0975b035a2c1b90c15e       2.0   \n",
       "209265  50|dedup_wf_001::53027b2ed4dbe76f4220035b15cf3265       4.0   \n",
       "209266  50|dedup_wf_001::855a903073747e34921ed0c1d4ddf50d       2.0   \n",
       "209267  50|dedup_wf_001::76949a708a4f8c859edff0d44c4cc93b       3.0   \n",
       "209268  50|r37980778c78::877210419dd492b19ab269769aa47778       2.0   \n",
       "\n",
       "       language__code language__label  lastupdatetimestamp  \\\n",
       "0             UNKNOWN         UNKNOWN         1.608740e+12   \n",
       "1             UNKNOWN         UNKNOWN         1.608740e+12   \n",
       "2             UNKNOWN         UNKNOWN         1.608740e+12   \n",
       "3                 eng         English         1.608740e+12   \n",
       "4             UNKNOWN         UNKNOWN         1.608740e+12   \n",
       "...               ...             ...                  ...   \n",
       "209264        UNKNOWN         UNKNOWN         1.608750e+12   \n",
       "209265        UNKNOWN         UNKNOWN         1.608750e+12   \n",
       "209266        UNKNOWN         UNKNOWN         1.608750e+12   \n",
       "209267        UNKNOWN         UNKNOWN         1.608750e+12   \n",
       "209268        UNKNOWN         UNKNOWN         1.608740e+12   \n",
       "\n",
       "                                                maintitle  originalId  pid  \\\n",
       "0       Peri-hand space representation in the absence ...         1.0    0   \n",
       "1       Triangulating the Neural, Psychological, and E...         1.0    0   \n",
       "2                                                BOLD5000         1.0    1   \n",
       "3       Dynamic functional magnetic resonance imaging ...         1.0    1   \n",
       "4                                            SharedStates         1.0    1   \n",
       "...                                                   ...         ...  ...   \n",
       "209264                     HBClab/NiBetaSeries: v0.4.0rc1         2.0    1   \n",
       "209265                        poldracklab/fmriprep: 1.2.4         3.0    1   \n",
       "209266                                  philips-cdas v0.1         2.0    1   \n",
       "209267  Source Code for \"A Whole-Brain Map and Assay P...         3.0    2   \n",
       "209268                                                NaN         1.0    1   \n",
       "\n",
       "       publicationdate  subjects      type  \\\n",
       "0           2017-09-04         1   dataset   \n",
       "1           2013-08-02         2   dataset   \n",
       "2           2018-01-01         0   dataset   \n",
       "3           2012-01-01        11   dataset   \n",
       "4           2020-01-01         0   dataset   \n",
       "...                ...       ...       ...   \n",
       "209264      2019-10-08         5  software   \n",
       "209265      2018-12-03        15  software   \n",
       "209266      2016-04-15         2  software   \n",
       "209267      2019-06-30        19  software   \n",
       "209268      2019-11-06        15  software   \n",
       "\n",
       "                                                publisher version size  \\\n",
       "0                                                     NaN     NaN  NaN   \n",
       "1                                                     NaN     NaN  NaN   \n",
       "2                                               Openneuro    None  NaN   \n",
       "3       University of Southern California Digital Libr...    None  NaN   \n",
       "4                                               Openneuro    None  NaN   \n",
       "...                                                   ...     ...  ...   \n",
       "209264                                             Zenodo     NaN  NaN   \n",
       "209265                                             Zenodo     NaN  NaN   \n",
       "209266                                             Zenodo     NaN  NaN   \n",
       "209267                                             Zenodo     NaN  NaN   \n",
       "209268                                                NaN     NaN  NaN   \n",
       "\n",
       "        projects embargoenddate  contactgroup  contactperson  tool  \\\n",
       "0            NaN            NaN           NaN            NaN   NaN   \n",
       "1            NaN            NaN           NaN            NaN   NaN   \n",
       "2            NaN            NaN           NaN            NaN   NaN   \n",
       "3            NaN            NaN           NaN            NaN   NaN   \n",
       "4            NaN            NaN           NaN            NaN   NaN   \n",
       "...          ...            ...           ...            ...   ...   \n",
       "209264       NaN            NaN           NaN            NaN   NaN   \n",
       "209265       NaN            NaN           NaN            NaN   NaN   \n",
       "209266       NaN            NaN           NaN            NaN   NaN   \n",
       "209267       NaN            NaN           NaN            NaN   NaN   \n",
       "209268       NaN            NaN           NaN            NaN   NaN   \n",
       "\n",
       "        documentationUrl programmingLanguage container__edition container__ep  \\\n",
       "0                    NaN                 NaN                NaN           NaN   \n",
       "1                    NaN                 NaN                NaN           NaN   \n",
       "2                    NaN                 NaN                NaN           NaN   \n",
       "3                    NaN                 NaN                NaN           NaN   \n",
       "4                    NaN                 NaN                NaN           NaN   \n",
       "...                  ...                 ...                ...           ...   \n",
       "209264               0.0                                    NaN           NaN   \n",
       "209265               0.0                                    NaN           NaN   \n",
       "209266               0.0                                    NaN           NaN   \n",
       "209267               0.0                                    NaN           NaN   \n",
       "209268               0.0                                    NaN           NaN   \n",
       "\n",
       "       container__iss container__issnLinking container__issnOnline  \\\n",
       "0                 NaN                    NaN                   NaN   \n",
       "1                 NaN                    NaN                   NaN   \n",
       "2                 NaN                    NaN                   NaN   \n",
       "3                 NaN                    NaN                   NaN   \n",
       "4                 NaN                    NaN                   NaN   \n",
       "...               ...                    ...                   ...   \n",
       "209264            NaN                    NaN                   NaN   \n",
       "209265            NaN                    NaN                   NaN   \n",
       "209266            NaN                    NaN                   NaN   \n",
       "209267            NaN                    NaN                   NaN   \n",
       "209268            NaN                    NaN                   NaN   \n",
       "\n",
       "       container__issnPrinted container__name container__sp container__vol  \\\n",
       "0                         NaN             NaN           NaN            NaN   \n",
       "1                         NaN             NaN           NaN            NaN   \n",
       "2                         NaN             NaN           NaN            NaN   \n",
       "3                         NaN             NaN           NaN            NaN   \n",
       "4                         NaN             NaN           NaN            NaN   \n",
       "...                       ...             ...           ...            ...   \n",
       "209264                    NaN             NaN           NaN            NaN   \n",
       "209265                    NaN             NaN           NaN            NaN   \n",
       "209266                    NaN             NaN           NaN            NaN   \n",
       "209267                    NaN             NaN           NaN            NaN   \n",
       "209268                    NaN             NaN           NaN            NaN   \n",
       "\n",
       "       container__conferencedate container__conferenceplace subtitle  \n",
       "0                            NaN                        NaN      NaN  \n",
       "1                            NaN                        NaN      NaN  \n",
       "2                            NaN                        NaN      NaN  \n",
       "3                            NaN                        NaN      NaN  \n",
       "4                            NaN                        NaN      NaN  \n",
       "...                          ...                        ...      ...  \n",
       "209264                       NaN                        NaN      NaN  \n",
       "209265                       NaN                        NaN      NaN  \n",
       "209266                       NaN                        NaN      NaN  \n",
       "209267                       NaN                        NaN      NaN  \n",
       "209268                       NaN                        NaN      NaN  \n",
       "\n",
       "[209269 rows x 46 columns]"
      ],
      "text/html": "<div>\n<style scoped>\n    .dataframe tbody tr th:only-of-type {\n        vertical-align: middle;\n    }\n\n    .dataframe tbody tr th {\n        vertical-align: top;\n    }\n\n    .dataframe thead th {\n        text-align: right;\n    }\n</style>\n<table border=\"1\" class=\"dataframe\">\n  <thead>\n    <tr style=\"text-align: right;\">\n      <th></th>\n      <th>author</th>\n      <th>bestaccessright__code</th>\n      <th>bestaccessright__label</th>\n      <th>bestaccessright__scheme</th>\n      <th>collectedfrom</th>\n      <th>context</th>\n      <th>contributor</th>\n      <th>country</th>\n      <th>coverage</th>\n      <th>dateofcollection</th>\n      <th>description</th>\n      <th>format</th>\n      <th>geolocation</th>\n      <th>id</th>\n      <th>instance</th>\n      <th>language__code</th>\n      <th>language__label</th>\n      <th>lastupdatetimestamp</th>\n      <th>maintitle</th>\n      <th>originalId</th>\n      <th>pid</th>\n      <th>publicationdate</th>\n      <th>subjects</th>\n      <th>type</th>\n      <th>publisher</th>\n      <th>version</th>\n      <th>size</th>\n      <th>projects</th>\n      <th>embargoenddate</th>\n      <th>contactgroup</th>\n      <th>contactperson</th>\n      <th>tool</th>\n      <th>documentationUrl</th>\n      <th>programmingLanguage</th>\n      <th>container__edition</th>\n      <th>container__ep</th>\n      <th>container__iss</th>\n      <th>container__issnLinking</th>\n      <th>container__issnOnline</th>\n      <th>container__issnPrinted</th>\n      <th>container__name</th>\n      <th>container__sp</th>\n      <th>container__vol</th>\n      <th>container__conferencedate</th>\n      <th>container__conferenceplace</th>\n      <th>subtitle</th>\n    </tr>\n  </thead>\n  <tbody>\n    <tr>\n      <th>0</th>\n      <td>3.0</td>\n      <td>c_abf2</td>\n      <td>OPEN</td>\n      <td>http://vocabularies.coar-repositories.org/docu...</td>\n      <td>1</td>\n      <td>1</td>\n      <td>0</td>\n      <td>0.0</td>\n      <td>0</td>\n      <td>2020-11-18T17:06:01.948Z</td>\n      <td>0</td>\n      <td>0</td>\n      <td>0.0</td>\n      <td>50|NeuroVault__::1b5230e3ea6d7123847ad55a1e06fffd</td>\n      <td>1.0</td>\n      <td>UNKNOWN</td>\n      <td>UNKNOWN</td>\n      <td>1.608740e+12</td>\n      <td>Peri-hand space representation in the absence ...</td>\n      <td>1.0</td>\n      <td>0</td>\n      <td>2017-09-04</td>\n      <td>1</td>\n      <td>dataset</td>\n      <td>NaN</td>\n      <td>NaN</td>\n      <td>NaN</td>\n      <td>NaN</td>\n      <td>NaN</td>\n      <td>NaN</td>\n      <td>NaN</td>\n      <td>NaN</td>\n      <td>NaN</td>\n      <td>NaN</td>\n      <td>NaN</td>\n      <td>NaN</td>\n      <td>NaN</td>\n      <td>NaN</td>\n      <td>NaN</td>\n      <td>NaN</td>\n      <td>NaN</td>\n      <td>NaN</td>\n      <td>NaN</td>\n      <td>NaN</td>\n      <td>NaN</td>\n      <td>NaN</td>\n    </tr>\n    <tr>\n      <th>1</th>\n      <td>4.0</td>\n      <td>c_abf2</td>\n      <td>OPEN</td>\n      <td>http://vocabularies.coar-repositories.org/docu...</td>\n      <td>1</td>\n      <td>1</td>\n      <td>0</td>\n      <td>0.0</td>\n      <td>0</td>\n      <td>2020-11-18T17:07:17.748Z</td>\n      <td>1</td>\n      <td>0</td>\n      <td>0.0</td>\n      <td>50|NeuroVault__::aab3238922bcc25a6f606eb525ffdc56</td>\n      <td>1.0</td>\n      <td>UNKNOWN</td>\n      <td>UNKNOWN</td>\n      <td>1.608740e+12</td>\n      <td>Triangulating the Neural, Psychological, and E...</td>\n      <td>1.0</td>\n      <td>0</td>\n      <td>2013-08-02</td>\n      <td>2</td>\n      <td>dataset</td>\n      <td>NaN</td>\n      <td>NaN</td>\n      <td>NaN</td>\n      <td>NaN</td>\n      <td>NaN</td>\n      <td>NaN</td>\n      <td>NaN</td>\n      <td>NaN</td>\n      <td>NaN</td>\n      <td>NaN</td>\n      <td>NaN</td>\n      <td>NaN</td>\n      <td>NaN</td>\n      <td>NaN</td>\n      <td>NaN</td>\n      <td>NaN</td>\n      <td>NaN</td>\n      <td>NaN</td>\n      <td>NaN</td>\n      <td>NaN</td>\n      <td>NaN</td>\n      <td>NaN</td>\n    </tr>\n    <tr>\n      <th>2</th>\n      <td>5.0</td>\n      <td>NaN</td>\n      <td>NaN</td>\n      <td>NaN</td>\n      <td>1</td>\n      <td>1</td>\n      <td>0</td>\n      <td>0.0</td>\n      <td>0</td>\n      <td>2018-10-28T00:39:04.337Z</td>\n      <td>0</td>\n      <td>0</td>\n      <td>0.0</td>\n      <td>50|datacite____::3a3d161270ebecb0e88286a79b2604fa</td>\n      <td>1.0</td>\n      <td>UNKNOWN</td>\n      <td>UNKNOWN</td>\n      <td>1.608740e+12</td>\n      <td>BOLD5000</td>\n      <td>1.0</td>\n      <td>1</td>\n      <td>2018-01-01</td>\n      <td>0</td>\n      <td>dataset</td>\n      <td>Openneuro</td>\n      <td>None</td>\n      <td>NaN</td>\n      <td>NaN</td>\n      <td>NaN</td>\n      <td>NaN</td>\n      <td>NaN</td>\n      <td>NaN</td>\n      <td>NaN</td>\n      <td>NaN</td>\n      <td>NaN</td>\n      <td>NaN</td>\n      <td>NaN</td>\n      <td>NaN</td>\n      <td>NaN</td>\n      <td>NaN</td>\n      <td>NaN</td>\n      <td>NaN</td>\n      <td>NaN</td>\n      <td>NaN</td>\n      <td>NaN</td>\n      <td>NaN</td>\n    </tr>\n    <tr>\n      <th>3</th>\n      <td>1.0</td>\n      <td>NaN</td>\n      <td>NaN</td>\n      <td>NaN</td>\n      <td>1</td>\n      <td>1</td>\n      <td>0</td>\n      <td>0.0</td>\n      <td>0</td>\n      <td>2018-10-28T00:39:04.337Z</td>\n      <td>1</td>\n      <td>0</td>\n      <td>0.0</td>\n      <td>50|datacite____::a830848fc3225c99d594becaa5dcbeb5</td>\n      <td>1.0</td>\n      <td>eng</td>\n      <td>English</td>\n      <td>1.608740e+12</td>\n      <td>Dynamic functional magnetic resonance imaging ...</td>\n      <td>1.0</td>\n      <td>1</td>\n      <td>2012-01-01</td>\n      <td>11</td>\n      <td>dataset</td>\n      <td>University of Southern California Digital Libr...</td>\n      <td>None</td>\n      <td>NaN</td>\n      <td>NaN</td>\n      <td>NaN</td>\n      <td>NaN</td>\n      <td>NaN</td>\n      <td>NaN</td>\n      <td>NaN</td>\n      <td>NaN</td>\n      <td>NaN</td>\n      <td>NaN</td>\n      <td>NaN</td>\n      <td>NaN</td>\n      <td>NaN</td>\n      <td>NaN</td>\n      <td>NaN</td>\n      <td>NaN</td>\n      <td>NaN</td>\n      <td>NaN</td>\n      <td>NaN</td>\n      <td>NaN</td>\n    </tr>\n    <tr>\n      <th>4</th>\n      <td>5.0</td>\n      <td>NaN</td>\n      <td>NaN</td>\n      <td>NaN</td>\n      <td>1</td>\n      <td>1</td>\n      <td>0</td>\n      <td>0.0</td>\n      <td>0</td>\n      <td>2018-10-28T00:39:04.337Z</td>\n      <td>0</td>\n      <td>0</td>\n      <td>0.0</td>\n      <td>50|datacite____::f62842400cd4a6d409f5f76318d3fa7c</td>\n      <td>1.0</td>\n      <td>UNKNOWN</td>\n      <td>UNKNOWN</td>\n      <td>1.608740e+12</td>\n      <td>SharedStates</td>\n      <td>1.0</td>\n      <td>1</td>\n      <td>2020-01-01</td>\n      <td>0</td>\n      <td>dataset</td>\n      <td>Openneuro</td>\n      <td>None</td>\n      <td>NaN</td>\n      <td>NaN</td>\n      <td>NaN</td>\n      <td>NaN</td>\n      <td>NaN</td>\n      <td>NaN</td>\n      <td>NaN</td>\n      <td>NaN</td>\n      <td>NaN</td>\n      <td>NaN</td>\n      <td>NaN</td>\n      <td>NaN</td>\n      <td>NaN</td>\n      <td>NaN</td>\n      <td>NaN</td>\n      <td>NaN</td>\n      <td>NaN</td>\n      <td>NaN</td>\n      <td>NaN</td>\n      <td>NaN</td>\n    </tr>\n    <tr>\n      <th>...</th>\n      <td>...</td>\n      <td>...</td>\n      <td>...</td>\n      <td>...</td>\n      <td>...</td>\n      <td>...</td>\n      <td>...</td>\n      <td>...</td>\n      <td>...</td>\n      <td>...</td>\n      <td>...</td>\n      <td>...</td>\n      <td>...</td>\n      <td>...</td>\n      <td>...</td>\n      <td>...</td>\n      <td>...</td>\n      <td>...</td>\n      <td>...</td>\n      <td>...</td>\n      <td>...</td>\n      <td>...</td>\n      <td>...</td>\n      <td>...</td>\n      <td>...</td>\n      <td>...</td>\n      <td>...</td>\n      <td>...</td>\n      <td>...</td>\n      <td>...</td>\n      <td>...</td>\n      <td>...</td>\n      <td>...</td>\n      <td>...</td>\n      <td>...</td>\n      <td>...</td>\n      <td>...</td>\n      <td>...</td>\n      <td>...</td>\n      <td>...</td>\n      <td>...</td>\n      <td>...</td>\n      <td>...</td>\n      <td>...</td>\n      <td>...</td>\n      <td>...</td>\n    </tr>\n    <tr>\n      <th>209264</th>\n      <td>2.0</td>\n      <td>c_abf2</td>\n      <td>OPEN</td>\n      <td>http://vocabularies.coar-repositories.org/docu...</td>\n      <td>2</td>\n      <td>1</td>\n      <td>16</td>\n      <td>0.0</td>\n      <td>0</td>\n      <td>2018-10-28T00:39:04.337Z</td>\n      <td>1</td>\n      <td>0</td>\n      <td>NaN</td>\n      <td>50|dedup_wf_001::1144aebf1a47a0975b035a2c1b90c15e</td>\n      <td>2.0</td>\n      <td>UNKNOWN</td>\n      <td>UNKNOWN</td>\n      <td>1.608750e+12</td>\n      <td>HBClab/NiBetaSeries: v0.4.0rc1</td>\n      <td>2.0</td>\n      <td>1</td>\n      <td>2019-10-08</td>\n      <td>5</td>\n      <td>software</td>\n      <td>Zenodo</td>\n      <td>NaN</td>\n      <td>NaN</td>\n      <td>NaN</td>\n      <td>NaN</td>\n      <td>NaN</td>\n      <td>NaN</td>\n      <td>NaN</td>\n      <td>0.0</td>\n      <td></td>\n      <td>NaN</td>\n      <td>NaN</td>\n      <td>NaN</td>\n      <td>NaN</td>\n      <td>NaN</td>\n      <td>NaN</td>\n      <td>NaN</td>\n      <td>NaN</td>\n      <td>NaN</td>\n      <td>NaN</td>\n      <td>NaN</td>\n      <td>NaN</td>\n    </tr>\n    <tr>\n      <th>209265</th>\n      <td>22.0</td>\n      <td>c_abf2</td>\n      <td>OPEN</td>\n      <td>http://vocabularies.coar-repositories.org/docu...</td>\n      <td>3</td>\n      <td>2</td>\n      <td>0</td>\n      <td>0.0</td>\n      <td>0</td>\n      <td>2020-11-08T23:27:58.067Z</td>\n      <td>1</td>\n      <td>0</td>\n      <td>NaN</td>\n      <td>50|dedup_wf_001::53027b2ed4dbe76f4220035b15cf3265</td>\n      <td>4.0</td>\n      <td>UNKNOWN</td>\n      <td>UNKNOWN</td>\n      <td>1.608750e+12</td>\n      <td>poldracklab/fmriprep: 1.2.4</td>\n      <td>3.0</td>\n      <td>1</td>\n      <td>2018-12-03</td>\n      <td>15</td>\n      <td>software</td>\n      <td>Zenodo</td>\n      <td>NaN</td>\n      <td>NaN</td>\n      <td>NaN</td>\n      <td>NaN</td>\n      <td>NaN</td>\n      <td>NaN</td>\n      <td>NaN</td>\n      <td>0.0</td>\n      <td></td>\n      <td>NaN</td>\n      <td>NaN</td>\n      <td>NaN</td>\n      <td>NaN</td>\n      <td>NaN</td>\n      <td>NaN</td>\n      <td>NaN</td>\n      <td>NaN</td>\n      <td>NaN</td>\n      <td>NaN</td>\n      <td>NaN</td>\n      <td>NaN</td>\n    </tr>\n    <tr>\n      <th>209266</th>\n      <td>1.0</td>\n      <td>c_abf2</td>\n      <td>OPEN</td>\n      <td>http://vocabularies.coar-repositories.org/docu...</td>\n      <td>2</td>\n      <td>1</td>\n      <td>0</td>\n      <td>0.0</td>\n      <td>0</td>\n      <td>2020-01-31T23:06:18.565Z</td>\n      <td>1</td>\n      <td>0</td>\n      <td>NaN</td>\n      <td>50|dedup_wf_001::855a903073747e34921ed0c1d4ddf50d</td>\n      <td>2.0</td>\n      <td>UNKNOWN</td>\n      <td>UNKNOWN</td>\n      <td>1.608750e+12</td>\n      <td>philips-cdas v0.1</td>\n      <td>2.0</td>\n      <td>1</td>\n      <td>2016-04-15</td>\n      <td>2</td>\n      <td>software</td>\n      <td>Zenodo</td>\n      <td>NaN</td>\n      <td>NaN</td>\n      <td>NaN</td>\n      <td>NaN</td>\n      <td>NaN</td>\n      <td>NaN</td>\n      <td>NaN</td>\n      <td>0.0</td>\n      <td></td>\n      <td>NaN</td>\n      <td>NaN</td>\n      <td>NaN</td>\n      <td>NaN</td>\n      <td>NaN</td>\n      <td>NaN</td>\n      <td>NaN</td>\n      <td>NaN</td>\n      <td>NaN</td>\n      <td>NaN</td>\n      <td>NaN</td>\n      <td>NaN</td>\n    </tr>\n    <tr>\n      <th>209267</th>\n      <td>3.0</td>\n      <td>c_abf2</td>\n      <td>OPEN</td>\n      <td>http://vocabularies.coar-repositories.org/docu...</td>\n      <td>2</td>\n      <td>1</td>\n      <td>0</td>\n      <td>0.0</td>\n      <td>0</td>\n      <td>2020-01-31T23:05:47.93Z</td>\n      <td>1</td>\n      <td>0</td>\n      <td>NaN</td>\n      <td>50|dedup_wf_001::76949a708a4f8c859edff0d44c4cc93b</td>\n      <td>3.0</td>\n      <td>UNKNOWN</td>\n      <td>UNKNOWN</td>\n      <td>1.608750e+12</td>\n      <td>Source Code for \"A Whole-Brain Map and Assay P...</td>\n      <td>3.0</td>\n      <td>2</td>\n      <td>2019-06-30</td>\n      <td>19</td>\n      <td>software</td>\n      <td>Zenodo</td>\n      <td>NaN</td>\n      <td>NaN</td>\n      <td>NaN</td>\n      <td>NaN</td>\n      <td>NaN</td>\n      <td>NaN</td>\n      <td>NaN</td>\n      <td>0.0</td>\n      <td></td>\n      <td>NaN</td>\n      <td>NaN</td>\n      <td>NaN</td>\n      <td>NaN</td>\n      <td>NaN</td>\n      <td>NaN</td>\n      <td>NaN</td>\n      <td>NaN</td>\n      <td>NaN</td>\n      <td>NaN</td>\n      <td>NaN</td>\n      <td>NaN</td>\n    </tr>\n    <tr>\n      <th>209268</th>\n      <td>0.0</td>\n      <td>c_abf2</td>\n      <td>OPEN</td>\n      <td>http://vocabularies.coar-repositories.org/docu...</td>\n      <td>1</td>\n      <td>1</td>\n      <td>0</td>\n      <td>0.0</td>\n      <td>0</td>\n      <td></td>\n      <td>1</td>\n      <td>0</td>\n      <td>NaN</td>\n      <td>50|r37980778c78::877210419dd492b19ab269769aa47778</td>\n      <td>2.0</td>\n      <td>UNKNOWN</td>\n      <td>UNKNOWN</td>\n      <td>1.608740e+12</td>\n      <td>NaN</td>\n      <td>1.0</td>\n      <td>1</td>\n      <td>2019-11-06</td>\n      <td>15</td>\n      <td>software</td>\n      <td>NaN</td>\n      <td>NaN</td>\n      <td>NaN</td>\n      <td>NaN</td>\n      <td>NaN</td>\n      <td>NaN</td>\n      <td>NaN</td>\n      <td>NaN</td>\n      <td>0.0</td>\n      <td></td>\n      <td>NaN</td>\n      <td>NaN</td>\n      <td>NaN</td>\n      <td>NaN</td>\n      <td>NaN</td>\n      <td>NaN</td>\n      <td>NaN</td>\n      <td>NaN</td>\n      <td>NaN</td>\n      <td>NaN</td>\n      <td>NaN</td>\n      <td>NaN</td>\n    </tr>\n  </tbody>\n</table>\n<p>209269 rows × 46 columns</p>\n</div>"
     },
     "metadata": {},
     "execution_count": 59
    }
   ],
   "source": [
    "df"
   ]
  },
  {
   "cell_type": "code",
   "execution_count": 52,
   "metadata": {},
   "outputs": [
    {
     "output_type": "stream",
     "name": "stdout",
     "text": [
      "209269\n"
     ]
    }
   ],
   "source": [
    "print(len(df))"
   ]
  },
  {
   "cell_type": "code",
   "execution_count": 56,
   "metadata": {},
   "outputs": [
    {
     "output_type": "execute_result",
     "data": {
      "text/plain": [
       "              author  collectedfrom        context    contributor  \\\n",
       "count  209223.000000  209269.000000  209269.000000  209269.000000   \n",
       "mean        5.318263       3.947360       1.011899       0.316463   \n",
       "std         8.061297       2.334681       0.115556       2.216044   \n",
       "min         0.000000       1.000000       1.000000       0.000000   \n",
       "25%         2.000000       2.000000       1.000000       0.000000   \n",
       "50%         4.000000       3.000000       1.000000       0.000000   \n",
       "75%         7.000000       5.000000       1.000000       0.000000   \n",
       "max       967.000000      65.000000       6.000000     343.000000   \n",
       "\n",
       "             country  coverage    description         format  geolocation  \\\n",
       "count  209179.000000  209269.0  209269.000000  209269.000000  7255.000000   \n",
       "mean        0.184933       0.0       0.956018       0.143844     0.003032   \n",
       "std         0.451196       0.0       0.531997       0.421596     0.072314   \n",
       "min         0.000000       0.0       0.000000       0.000000     0.000000   \n",
       "25%         0.000000       0.0       1.000000       0.000000     0.000000   \n",
       "50%         0.000000       0.0       1.000000       0.000000     0.000000   \n",
       "75%         0.000000       0.0       1.000000       0.000000     0.000000   \n",
       "max        15.000000       0.0     109.000000      19.000000     3.000000   \n",
       "\n",
       "            instance  lastupdatetimestamp    originalId            pid  \\\n",
       "count  209236.000000         2.091100e+05  209236.00000  209269.000000   \n",
       "mean        3.771665         1.591775e+12       3.44261       1.758469   \n",
       "std         4.011212         2.163189e+10       3.90801       2.465263   \n",
       "min         1.000000         1.502380e+12       1.00000       0.000000   \n",
       "25%         2.000000         1.574363e+12       2.00000       1.000000   \n",
       "50%         3.000000         1.608740e+12       3.00000       1.000000   \n",
       "75%         5.000000         1.608747e+12       4.00000       3.000000   \n",
       "max       438.000000         1.608750e+12     589.00000     199.000000   \n",
       "\n",
       "            subjects      projects  contactgroup  contactperson    tool  \\\n",
       "count  209269.000000  18121.000000        1610.0    1610.000000  1610.0   \n",
       "mean       18.767056      2.136747           0.0       0.000621     0.0   \n",
       "std        12.649303      2.929612           0.0       0.024922     0.0   \n",
       "min         0.000000      1.000000           0.0       0.000000     0.0   \n",
       "25%        14.000000      1.000000           0.0       0.000000     0.0   \n",
       "50%        17.000000      1.000000           0.0       0.000000     0.0   \n",
       "75%        21.000000      2.000000           0.0       0.000000     0.0   \n",
       "max      1741.000000    182.000000           0.0       1.000000     0.0   \n",
       "\n",
       "       documentationUrl  \n",
       "count             423.0  \n",
       "mean                0.0  \n",
       "std                 0.0  \n",
       "min                 0.0  \n",
       "25%                 0.0  \n",
       "50%                 0.0  \n",
       "75%                 0.0  \n",
       "max                 0.0  "
      ],
      "text/html": "<div>\n<style scoped>\n    .dataframe tbody tr th:only-of-type {\n        vertical-align: middle;\n    }\n\n    .dataframe tbody tr th {\n        vertical-align: top;\n    }\n\n    .dataframe thead th {\n        text-align: right;\n    }\n</style>\n<table border=\"1\" class=\"dataframe\">\n  <thead>\n    <tr style=\"text-align: right;\">\n      <th></th>\n      <th>author</th>\n      <th>collectedfrom</th>\n      <th>context</th>\n      <th>contributor</th>\n      <th>country</th>\n      <th>coverage</th>\n      <th>description</th>\n      <th>format</th>\n      <th>geolocation</th>\n      <th>instance</th>\n      <th>lastupdatetimestamp</th>\n      <th>originalId</th>\n      <th>pid</th>\n      <th>subjects</th>\n      <th>projects</th>\n      <th>contactgroup</th>\n      <th>contactperson</th>\n      <th>tool</th>\n      <th>documentationUrl</th>\n    </tr>\n  </thead>\n  <tbody>\n    <tr>\n      <th>count</th>\n      <td>209223.000000</td>\n      <td>209269.000000</td>\n      <td>209269.000000</td>\n      <td>209269.000000</td>\n      <td>209179.000000</td>\n      <td>209269.0</td>\n      <td>209269.000000</td>\n      <td>209269.000000</td>\n      <td>7255.000000</td>\n      <td>209236.000000</td>\n      <td>2.091100e+05</td>\n      <td>209236.00000</td>\n      <td>209269.000000</td>\n      <td>209269.000000</td>\n      <td>18121.000000</td>\n      <td>1610.0</td>\n      <td>1610.000000</td>\n      <td>1610.0</td>\n      <td>423.0</td>\n    </tr>\n    <tr>\n      <th>mean</th>\n      <td>5.318263</td>\n      <td>3.947360</td>\n      <td>1.011899</td>\n      <td>0.316463</td>\n      <td>0.184933</td>\n      <td>0.0</td>\n      <td>0.956018</td>\n      <td>0.143844</td>\n      <td>0.003032</td>\n      <td>3.771665</td>\n      <td>1.591775e+12</td>\n      <td>3.44261</td>\n      <td>1.758469</td>\n      <td>18.767056</td>\n      <td>2.136747</td>\n      <td>0.0</td>\n      <td>0.000621</td>\n      <td>0.0</td>\n      <td>0.0</td>\n    </tr>\n    <tr>\n      <th>std</th>\n      <td>8.061297</td>\n      <td>2.334681</td>\n      <td>0.115556</td>\n      <td>2.216044</td>\n      <td>0.451196</td>\n      <td>0.0</td>\n      <td>0.531997</td>\n      <td>0.421596</td>\n      <td>0.072314</td>\n      <td>4.011212</td>\n      <td>2.163189e+10</td>\n      <td>3.90801</td>\n      <td>2.465263</td>\n      <td>12.649303</td>\n      <td>2.929612</td>\n      <td>0.0</td>\n      <td>0.024922</td>\n      <td>0.0</td>\n      <td>0.0</td>\n    </tr>\n    <tr>\n      <th>min</th>\n      <td>0.000000</td>\n      <td>1.000000</td>\n      <td>1.000000</td>\n      <td>0.000000</td>\n      <td>0.000000</td>\n      <td>0.0</td>\n      <td>0.000000</td>\n      <td>0.000000</td>\n      <td>0.000000</td>\n      <td>1.000000</td>\n      <td>1.502380e+12</td>\n      <td>1.00000</td>\n      <td>0.000000</td>\n      <td>0.000000</td>\n      <td>1.000000</td>\n      <td>0.0</td>\n      <td>0.000000</td>\n      <td>0.0</td>\n      <td>0.0</td>\n    </tr>\n    <tr>\n      <th>25%</th>\n      <td>2.000000</td>\n      <td>2.000000</td>\n      <td>1.000000</td>\n      <td>0.000000</td>\n      <td>0.000000</td>\n      <td>0.0</td>\n      <td>1.000000</td>\n      <td>0.000000</td>\n      <td>0.000000</td>\n      <td>2.000000</td>\n      <td>1.574363e+12</td>\n      <td>2.00000</td>\n      <td>1.000000</td>\n      <td>14.000000</td>\n      <td>1.000000</td>\n      <td>0.0</td>\n      <td>0.000000</td>\n      <td>0.0</td>\n      <td>0.0</td>\n    </tr>\n    <tr>\n      <th>50%</th>\n      <td>4.000000</td>\n      <td>3.000000</td>\n      <td>1.000000</td>\n      <td>0.000000</td>\n      <td>0.000000</td>\n      <td>0.0</td>\n      <td>1.000000</td>\n      <td>0.000000</td>\n      <td>0.000000</td>\n      <td>3.000000</td>\n      <td>1.608740e+12</td>\n      <td>3.00000</td>\n      <td>1.000000</td>\n      <td>17.000000</td>\n      <td>1.000000</td>\n      <td>0.0</td>\n      <td>0.000000</td>\n      <td>0.0</td>\n      <td>0.0</td>\n    </tr>\n    <tr>\n      <th>75%</th>\n      <td>7.000000</td>\n      <td>5.000000</td>\n      <td>1.000000</td>\n      <td>0.000000</td>\n      <td>0.000000</td>\n      <td>0.0</td>\n      <td>1.000000</td>\n      <td>0.000000</td>\n      <td>0.000000</td>\n      <td>5.000000</td>\n      <td>1.608747e+12</td>\n      <td>4.00000</td>\n      <td>3.000000</td>\n      <td>21.000000</td>\n      <td>2.000000</td>\n      <td>0.0</td>\n      <td>0.000000</td>\n      <td>0.0</td>\n      <td>0.0</td>\n    </tr>\n    <tr>\n      <th>max</th>\n      <td>967.000000</td>\n      <td>65.000000</td>\n      <td>6.000000</td>\n      <td>343.000000</td>\n      <td>15.000000</td>\n      <td>0.0</td>\n      <td>109.000000</td>\n      <td>19.000000</td>\n      <td>3.000000</td>\n      <td>438.000000</td>\n      <td>1.608750e+12</td>\n      <td>589.00000</td>\n      <td>199.000000</td>\n      <td>1741.000000</td>\n      <td>182.000000</td>\n      <td>0.0</td>\n      <td>1.000000</td>\n      <td>0.0</td>\n      <td>0.0</td>\n    </tr>\n  </tbody>\n</table>\n</div>"
     },
     "metadata": {},
     "execution_count": 56
    }
   ],
   "source": [
    "df.describe()"
   ]
  },
  {
   "cell_type": "code",
   "execution_count": 57,
   "metadata": {},
   "outputs": [
    {
     "output_type": "execute_result",
     "data": {
      "text/plain": [
       "          author bestaccessright__code bestaccessright__label  \\\n",
       "count   209223.0                206835                 206835   \n",
       "unique     189.0                     4                      4   \n",
       "top          3.0                c_abf2                   OPEN   \n",
       "freq     30028.0                107699                 107699   \n",
       "\n",
       "                                  bestaccessright__scheme  collectedfrom  \\\n",
       "count                                              206835         209269   \n",
       "unique                                                  1             32   \n",
       "top     http://vocabularies.coar-repositories.org/docu...              2   \n",
       "freq                                               206835          60161   \n",
       "\n",
       "        context  contributor   country  coverage dateofcollection  \\\n",
       "count    209269       209269  209179.0    209269           207208   \n",
       "unique        5           73      11.0         1           106828   \n",
       "top           1            0       0.0         0                    \n",
       "freq     206934       189833  174773.0    209269            35100   \n",
       "\n",
       "        description  format  geolocation  \\\n",
       "count        209269  209269       7255.0   \n",
       "unique           23       9          4.0   \n",
       "top               1       0          0.0   \n",
       "freq         182365  183817       7240.0   \n",
       "\n",
       "                                                       id  instance  \\\n",
       "count                                              209269  209236.0   \n",
       "unique                                             209269     127.0   \n",
       "top     50|doiboost____::bd99ba4f1ee46044933afa57bccdc1cc       2.0   \n",
       "freq                                                    1   83982.0   \n",
       "\n",
       "       language__code language__label  lastupdatetimestamp        maintitle  \\\n",
       "count          209269          209269         2.091100e+05           206308   \n",
       "unique             41              41         1.045530e+05           204084   \n",
       "top               und    Undetermined         1.608747e+12  The EEG society   \n",
       "freq           136746          136746         1.007110e+05               27   \n",
       "\n",
       "        originalId     pid publicationdate  subjects         type  \\\n",
       "count     209236.0  209269          209189    209269       209269   \n",
       "unique       123.0      97           51715       198            4   \n",
       "top            2.0       1      2015-01-01        16  publication   \n",
       "freq       64679.0  134315            2722     19208       199789   \n",
       "\n",
       "          publisher version     size  projects embargoenddate  contactgroup  \\\n",
       "count        186156    1795      769   18121.0           3511        1610.0   \n",
       "unique         4240      16      653      42.0            710           1.0   \n",
       "top     Elsevier BV    None  0 Bytes       1.0                          0.0   \n",
       "freq          40990    1699       80    9991.0           2394        1610.0   \n",
       "\n",
       "        contactperson    tool  documentationUrl programmingLanguage  \\\n",
       "count          1610.0  1610.0             423.0                 423   \n",
       "unique            2.0     1.0               1.0                   1   \n",
       "top               0.0     0.0               0.0                       \n",
       "freq           1609.0  1610.0             423.0                 423   \n",
       "\n",
       "       container__edition container__ep container__iss container__issnLinking  \\\n",
       "count               26304        108960          26304                  26304   \n",
       "unique                  1          7337            232                      1   \n",
       "top                                                                             \n",
       "freq                26304         19128          17416                  26304   \n",
       "\n",
       "       container__issnOnline container__issnPrinted container__name  \\\n",
       "count                  77807                 119881          143214   \n",
       "unique                  5374                   7337           13513   \n",
       "top                                                        PLoS ONE   \n",
       "freq                   15559                   8117            4669   \n",
       "\n",
       "       container__sp container__vol container__conferencedate  \\\n",
       "count         122426         127734                      2393   \n",
       "unique         13006           1524                         1   \n",
       "top                                                             \n",
       "freq           18722          12375                      2393   \n",
       "\n",
       "       container__conferenceplace          subtitle  \n",
       "count                        2393              6752  \n",
       "unique                          1              6255  \n",
       "top                                Clinical article  \n",
       "freq                         2393                67  "
      ],
      "text/html": "<div>\n<style scoped>\n    .dataframe tbody tr th:only-of-type {\n        vertical-align: middle;\n    }\n\n    .dataframe tbody tr th {\n        vertical-align: top;\n    }\n\n    .dataframe thead th {\n        text-align: right;\n    }\n</style>\n<table border=\"1\" class=\"dataframe\">\n  <thead>\n    <tr style=\"text-align: right;\">\n      <th></th>\n      <th>author</th>\n      <th>bestaccessright__code</th>\n      <th>bestaccessright__label</th>\n      <th>bestaccessright__scheme</th>\n      <th>collectedfrom</th>\n      <th>context</th>\n      <th>contributor</th>\n      <th>country</th>\n      <th>coverage</th>\n      <th>dateofcollection</th>\n      <th>description</th>\n      <th>format</th>\n      <th>geolocation</th>\n      <th>id</th>\n      <th>instance</th>\n      <th>language__code</th>\n      <th>language__label</th>\n      <th>lastupdatetimestamp</th>\n      <th>maintitle</th>\n      <th>originalId</th>\n      <th>pid</th>\n      <th>publicationdate</th>\n      <th>subjects</th>\n      <th>type</th>\n      <th>publisher</th>\n      <th>version</th>\n      <th>size</th>\n      <th>projects</th>\n      <th>embargoenddate</th>\n      <th>contactgroup</th>\n      <th>contactperson</th>\n      <th>tool</th>\n      <th>documentationUrl</th>\n      <th>programmingLanguage</th>\n      <th>container__edition</th>\n      <th>container__ep</th>\n      <th>container__iss</th>\n      <th>container__issnLinking</th>\n      <th>container__issnOnline</th>\n      <th>container__issnPrinted</th>\n      <th>container__name</th>\n      <th>container__sp</th>\n      <th>container__vol</th>\n      <th>container__conferencedate</th>\n      <th>container__conferenceplace</th>\n      <th>subtitle</th>\n    </tr>\n  </thead>\n  <tbody>\n    <tr>\n      <th>count</th>\n      <td>209223.0</td>\n      <td>206835</td>\n      <td>206835</td>\n      <td>206835</td>\n      <td>209269</td>\n      <td>209269</td>\n      <td>209269</td>\n      <td>209179.0</td>\n      <td>209269</td>\n      <td>207208</td>\n      <td>209269</td>\n      <td>209269</td>\n      <td>7255.0</td>\n      <td>209269</td>\n      <td>209236.0</td>\n      <td>209269</td>\n      <td>209269</td>\n      <td>2.091100e+05</td>\n      <td>206308</td>\n      <td>209236.0</td>\n      <td>209269</td>\n      <td>209189</td>\n      <td>209269</td>\n      <td>209269</td>\n      <td>186156</td>\n      <td>1795</td>\n      <td>769</td>\n      <td>18121.0</td>\n      <td>3511</td>\n      <td>1610.0</td>\n      <td>1610.0</td>\n      <td>1610.0</td>\n      <td>423.0</td>\n      <td>423</td>\n      <td>26304</td>\n      <td>108960</td>\n      <td>26304</td>\n      <td>26304</td>\n      <td>77807</td>\n      <td>119881</td>\n      <td>143214</td>\n      <td>122426</td>\n      <td>127734</td>\n      <td>2393</td>\n      <td>2393</td>\n      <td>6752</td>\n    </tr>\n    <tr>\n      <th>unique</th>\n      <td>189.0</td>\n      <td>4</td>\n      <td>4</td>\n      <td>1</td>\n      <td>32</td>\n      <td>5</td>\n      <td>73</td>\n      <td>11.0</td>\n      <td>1</td>\n      <td>106828</td>\n      <td>23</td>\n      <td>9</td>\n      <td>4.0</td>\n      <td>209269</td>\n      <td>127.0</td>\n      <td>41</td>\n      <td>41</td>\n      <td>1.045530e+05</td>\n      <td>204084</td>\n      <td>123.0</td>\n      <td>97</td>\n      <td>51715</td>\n      <td>198</td>\n      <td>4</td>\n      <td>4240</td>\n      <td>16</td>\n      <td>653</td>\n      <td>42.0</td>\n      <td>710</td>\n      <td>1.0</td>\n      <td>2.0</td>\n      <td>1.0</td>\n      <td>1.0</td>\n      <td>1</td>\n      <td>1</td>\n      <td>7337</td>\n      <td>232</td>\n      <td>1</td>\n      <td>5374</td>\n      <td>7337</td>\n      <td>13513</td>\n      <td>13006</td>\n      <td>1524</td>\n      <td>1</td>\n      <td>1</td>\n      <td>6255</td>\n    </tr>\n    <tr>\n      <th>top</th>\n      <td>3.0</td>\n      <td>c_abf2</td>\n      <td>OPEN</td>\n      <td>http://vocabularies.coar-repositories.org/docu...</td>\n      <td>2</td>\n      <td>1</td>\n      <td>0</td>\n      <td>0.0</td>\n      <td>0</td>\n      <td></td>\n      <td>1</td>\n      <td>0</td>\n      <td>0.0</td>\n      <td>50|doiboost____::bd99ba4f1ee46044933afa57bccdc1cc</td>\n      <td>2.0</td>\n      <td>und</td>\n      <td>Undetermined</td>\n      <td>1.608747e+12</td>\n      <td>The EEG society</td>\n      <td>2.0</td>\n      <td>1</td>\n      <td>2015-01-01</td>\n      <td>16</td>\n      <td>publication</td>\n      <td>Elsevier BV</td>\n      <td>None</td>\n      <td>0 Bytes</td>\n      <td>1.0</td>\n      <td></td>\n      <td>0.0</td>\n      <td>0.0</td>\n      <td>0.0</td>\n      <td>0.0</td>\n      <td></td>\n      <td></td>\n      <td></td>\n      <td></td>\n      <td></td>\n      <td></td>\n      <td></td>\n      <td>PLoS ONE</td>\n      <td></td>\n      <td></td>\n      <td></td>\n      <td></td>\n      <td>Clinical article</td>\n    </tr>\n    <tr>\n      <th>freq</th>\n      <td>30028.0</td>\n      <td>107699</td>\n      <td>107699</td>\n      <td>206835</td>\n      <td>60161</td>\n      <td>206934</td>\n      <td>189833</td>\n      <td>174773.0</td>\n      <td>209269</td>\n      <td>35100</td>\n      <td>182365</td>\n      <td>183817</td>\n      <td>7240.0</td>\n      <td>1</td>\n      <td>83982.0</td>\n      <td>136746</td>\n      <td>136746</td>\n      <td>1.007110e+05</td>\n      <td>27</td>\n      <td>64679.0</td>\n      <td>134315</td>\n      <td>2722</td>\n      <td>19208</td>\n      <td>199789</td>\n      <td>40990</td>\n      <td>1699</td>\n      <td>80</td>\n      <td>9991.0</td>\n      <td>2394</td>\n      <td>1610.0</td>\n      <td>1609.0</td>\n      <td>1610.0</td>\n      <td>423.0</td>\n      <td>423</td>\n      <td>26304</td>\n      <td>19128</td>\n      <td>17416</td>\n      <td>26304</td>\n      <td>15559</td>\n      <td>8117</td>\n      <td>4669</td>\n      <td>18722</td>\n      <td>12375</td>\n      <td>2393</td>\n      <td>2393</td>\n      <td>67</td>\n    </tr>\n  </tbody>\n</table>\n</div>"
     },
     "metadata": {},
     "execution_count": 57
    }
   ],
   "source": [
    "df.astype(object).describe()"
   ]
  },
  {
   "source": [
    "## Riflessioni\n",
    "967 autori in una risorsa mi sembrano un po' eccessivi, è possibile?  \n",
    "I contributor, country, coverage, description, format, geolocation,  sono praticamente sempre 0   \n",
    "Molti valori compaiono davvero poche \n"
   ],
   "cell_type": "markdown",
   "metadata": {}
  },
  {
   "cell_type": "code",
   "execution_count": null,
   "metadata": {},
   "outputs": [],
   "source": []
  }
 ]
}